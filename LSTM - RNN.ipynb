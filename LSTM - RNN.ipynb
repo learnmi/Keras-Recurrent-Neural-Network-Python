{
 "cells": [
  {
   "cell_type": "code",
   "execution_count": 3,
   "metadata": {},
   "outputs": [
    {
     "name": "stderr",
     "output_type": "stream",
     "text": [
      "Using TensorFlow backend.\n"
     ]
    }
   ],
   "source": [
    "import numpy as np\n",
    "from keras.models import Sequential\n",
    "from keras.layers import Dense\n",
    "from keras.layers import Dropout\n",
    "from keras.layers import LSTM\n",
    "from keras.utils import np_utils"
   ]
  },
  {
   "cell_type": "code",
   "execution_count": 4,
   "metadata": {},
   "outputs": [],
   "source": [
    "# /Users/sonu/Documents/aiml/misc/jupyter_notes\n",
    "data = open(\"/Users/sonu/Documents/aiml/misc/jupyter_notes/othello.txt\").read().lower()\n",
    "chars = sorted(list(set(data)))\n",
    "totalChars = len(data)\n",
    "numberOfUniqueChars = len(chars)"
   ]
  },
  {
   "cell_type": "code",
   "execution_count": 5,
   "metadata": {},
   "outputs": [],
   "source": [
    "CharsForids = {char:Id for Id,char in enumerate(chars)}\n",
    "idsForChars = {Id:char for Id,char in enumerate(chars)}\n",
    "numberOfCharsToLearn = 100"
   ]
  },
  {
   "cell_type": "code",
   "execution_count": 6,
   "metadata": {},
   "outputs": [],
   "source": [
    "# function\n",
    "charX = []\n",
    "y = []\n",
    "counter = totalChars - numberOfCharsToLearn\n",
    "for i in range(0,counter,1):\n",
    "    inputChars  = data[i:i+numberOfCharsToLearn]\n",
    "    outputChars = data[i + numberOfCharsToLearn]\n",
    "    charX.append([CharsForids[char] for char in inputChars])\n",
    "    y.append(CharsForids[outputChars])"
   ]
  },
  {
   "cell_type": "code",
   "execution_count": 7,
   "metadata": {},
   "outputs": [],
   "source": [
    "X = np.reshape(charX, (len(charX), numberOfCharsToLearn,1))\n",
    "X = X/float(numberOfUniqueChars)\n",
    "y = np_utils.to_categorical(y)"
   ]
  },
  {
   "cell_type": "code",
   "execution_count": 8,
   "metadata": {},
   "outputs": [],
   "source": [
    "#hack\n",
    "import os\n",
    "os.environ['KMP_DUPLICATE_LIB_OK']='True'"
   ]
  },
  {
   "cell_type": "code",
   "execution_count": 11,
   "metadata": {},
   "outputs": [
    {
     "name": "stdout",
     "output_type": "stream",
     "text": [
      "Epoch 1/5\n",
      "1761/1761 [==============================] - 16s 9ms/step - loss: 3.2003\n",
      "Epoch 2/5\n",
      "1761/1761 [==============================] - 14s 8ms/step - loss: 3.0300\n",
      "Epoch 3/5\n",
      "1761/1761 [==============================] - 15s 8ms/step - loss: 3.0037\n",
      "Epoch 4/5\n",
      "1761/1761 [==============================] - 15s 9ms/step - loss: 2.9976\n",
      "Epoch 5/5\n",
      "1761/1761 [==============================] - 15s 9ms/step - loss: 2.9966\n"
     ]
    }
   ],
   "source": [
    "#model\n",
    "model = Sequential()\n",
    "model.add(LSTM(256, input_shape=(X.shape[1],X.shape[2])))\n",
    "model.add(Dropout(0.2))\n",
    "model.add(Dense(y.shape[1], activation='softmax'))\n",
    "model.compile(loss='categorical_crossentropy', optimizer='adam')\n",
    "model.fit(X,y,epochs=5,batch_size=128)\n",
    "model.save_weights(\"Othello.hdf5\")"
   ]
  },
  {
   "cell_type": "code",
   "execution_count": 14,
   "metadata": {},
   "outputs": [
    {
     "name": "stdout",
     "output_type": "stream",
     "text": [
      "                                                                                                    \n"
     ]
    }
   ],
   "source": [
    "# predict\n",
    "randomVal = np.random.randint(0, len(charX)-1)\n",
    "randomStart = charX[randomVal]\n",
    "for i in range(500):\n",
    "    x = np.reshape(randomStart, (1, len(randomStart), 1))\n",
    "    x = x/float(numberOfUniqueChars)\n",
    "    pred = model.predict(x)\n",
    "    index = np.argmax(pred)\n",
    "    randomStart.append(index)\n",
    "    randomStart = randomStart[1: len(randomStart)]\n",
    "print(\"\".join([idsForChars[value] for value in randomStart]))"
   ]
  },
  {
   "cell_type": "code",
   "execution_count": null,
   "metadata": {},
   "outputs": [],
   "source": []
  }
 ],
 "metadata": {
  "kernelspec": {
   "display_name": "Python 3",
   "language": "python",
   "name": "python3"
  },
  "language_info": {
   "codemirror_mode": {
    "name": "ipython",
    "version": 3
   },
   "file_extension": ".py",
   "mimetype": "text/x-python",
   "name": "python",
   "nbconvert_exporter": "python",
   "pygments_lexer": "ipython3",
   "version": "3.7.3"
  }
 },
 "nbformat": 4,
 "nbformat_minor": 4
}
